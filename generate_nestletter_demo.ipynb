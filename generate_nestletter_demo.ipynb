{
 "cells": [
  {
   "cell_type": "markdown",
   "metadata": {},
   "source": [
    "# Newsletter generation from special products & current date\n",
    "\n",
    "In this notebook, we demonstrate how to use the free Cohere API to generate a date-appropriate newsletter for retail store Aldi UK, based on the products they currently sell in their stores. The goal is to create an email-looking newsletter with links to products from the store its customers could buy, all in the form of a marketing email.\n",
    "\n",
    "We perform this task using a sequence of steps:\n",
    "\n",
    "1. Scrape the special products currently on offer (using Selenium)\n",
    "2. Generate holidays and celebrations relevant to the current month (using Cohere Generate)\n",
    "3. Generating gift ideas for these special events (using Cohere Generate)\n",
    "4. Selecting a relevant subset of products on offer based on the gift ideas (using Sentence Embeddings)\n",
    "5. Generating a newsletter based on that subset of products (using Cohere Chat)"
   ]
  },
  {
   "cell_type": "markdown",
   "metadata": {},
   "source": [
    "## Step 1: Scrape the special products currently on offer\n",
    "\n",
    "In this step, we will use Selenium to scrape all the special products from the Aldi UK website.\n",
    "\n",
    "We do so by :\n",
    "\n",
    "1. nativating to the \"https://www.aldi.co.uk/c/specialbuys/specialbuyscategories\" webpage, \n",
    "2. clicking away the cookies banner\n",
    "3. repeatedly click the \"load more\" button until all items are visible\n",
    "4. find all instances of class \"gtm-product-data\" on the page, which already contains JSON info about the products"
   ]
  },
  {
   "cell_type": "code",
   "execution_count": null,
   "metadata": {},
   "outputs": [],
   "source": [
    "import json\n",
    "import time\n",
    "from selenium import webdriver\n",
    "from selenium.webdriver.common.by import By\n",
    "from selenium.common.exceptions import ElementNotInteractableException\n",
    "from webdriver_manager.chrome import ChromeDriverManager\n",
    "\n",
    "# install Chrome in case it wasn't installed already\n",
    "ChromeDriverManager().install()\n",
    "\n",
    "def fetch_all_products(url_address):\n",
    "    \"\"\"\n",
    "    This function returns a list of all special products found on the given page.\n",
    "    \"\"\"\n",
    "    all_products = [] #a list where all found products will be added\n",
    "    # open chrome\n",
    "    options = webdriver.ChromeOptions()\n",
    "    options.headless = True\n",
    "    driver = webdriver.Chrome(options=options)\n",
    "    try:\n",
    "        # navigate to the given address\n",
    "        driver.get(url_address)\n",
    "        time.sleep(1)\n",
    "        # find the accept all cookies button\n",
    "        accept_cookies_button = driver.find_element(By.ID, \"onetrust-accept-btn-handler\")\n",
    "        # click on the accept all cookies button\n",
    "        accept_cookies_button.click()\n",
    "        time.sleep(1)\n",
    "        # load more items until all are loaded\n",
    "        try:\n",
    "            # find the loadmore button\n",
    "            loadmore_button = driver.find_element(By.CLASS_NAME, 'category-loadmore-cta')\n",
    "            while loadmore_button != None:\n",
    "                # click on the button\n",
    "                loadmore_button.click() #?\n",
    "                # wait until the new items have been downloaded\n",
    "                time.sleep(3)\n",
    "                loadmore_button = driver.find_element(By.CLASS_NAME, 'category-loadmore-cta')\n",
    "        except ElementNotInteractableException:\n",
    "            loadmore_button = None\n",
    "        # find all elements describing a product\n",
    "        product_data = driver.find_elements(By.CLASS_NAME, 'gtm-product-data') #this is a class for product data\n",
    "        # load the json contained in all found elements\n",
    "        for l in product_data:\n",
    "            product = l.get_attribute(\"textContent\")\n",
    "            product_dict = json.loads(product)\n",
    "            all_products.append(product_dict)\n",
    "    finally:\n",
    "        # always close the browser before exiting\n",
    "        driver.close()\n",
    "    return all_products\n",
    "\n",
    "all_products = fetch_all_products(\"https://www.aldi.co.uk/c/specialbuys/specialbuyscategories\")"
   ]
  },
  {
   "cell_type": "code",
   "execution_count": 2,
   "metadata": {},
   "outputs": [],
   "source": [
    "# Writing to sample.json\n",
    "with open(\"all_products.json\", \"w\") as outfile:\n",
    "    outfile.write(json.dumps(all_products, indent=4))"
   ]
  },
  {
   "cell_type": "markdown",
   "metadata": {},
   "source": [
    "## Step 2: Generate holidays and celebrations relevant to the current month\n",
    "\n",
    "In this step, we will create a list of holidays and special events in the UK for every month of the year.\n",
    "\n",
    "To do this:\n",
    "1. We create an LLM prompt with a month name as argument, and ask Cohere Generate to provide us with event suggestions\n",
    "2. This prompt contains an example, such that Cohere returns its answer as JSON list"
   ]
  },
  {
   "cell_type": "code",
   "execution_count": 3,
   "metadata": {},
   "outputs": [],
   "source": [
    "import cohere \n",
    "\n",
    "client_key = '1gqPwtcjMYFlYgr7722JJTfSYS0kAuSMEaAo6YKm'\n",
    "co = cohere.Client(client_key)"
   ]
  },
  {
   "cell_type": "code",
   "execution_count": 4,
   "metadata": {},
   "outputs": [],
   "source": [
    "months = [\"January\", \"February\", \"March\", \"April\", \"May\", \"June\", \"July\", \"August\", \"September\", \"October\", \"November\", \"December\"]"
   ]
  },
  {
   "cell_type": "code",
   "execution_count": 8,
   "metadata": {},
   "outputs": [],
   "source": [
    "import re\n",
    "json_list_pattern = r'\\[\\s*(?:\"[^\"]*\"\\s*,\\s*)*\"[^\"]*\"\\s*\\]'\n",
    "\n",
    "def ask_holidays(name_of_month):\n",
    "    answer = co.generate(prompt=f'Please tell me what holidays and special events are observed in {name_of_month} in the UK? store the answer in a list of the following format'+\"\"\": \n",
    "    \n",
    "    ```json\n",
    "    [\n",
    "        \"Celebration 1\",\n",
    "        \"Celebration 2\",\n",
    "        ...\n",
    "    ]\n",
    "    ```\"\"\")\n",
    "\n",
    "    answer_text = answer[0].text\n",
    "\n",
    "    events_for_given_month = []\n",
    "    \n",
    "    json_lists = re.findall(json_list_pattern, answer_text, flags=re.S)\n",
    "    for json_list in json_lists:\n",
    "        event_list = json.loads(json_list)\n",
    "        events_for_given_month.extend(event_list)\n",
    "\n",
    "    return events_for_given_month"
   ]
  },
  {
   "cell_type": "code",
   "execution_count": null,
   "metadata": {},
   "outputs": [],
   "source": [
    "holidays_per_month = []\n",
    "for month in months:\n",
    "    events_for_month = ask_holidays(month)\n",
    "    events_and_holidays.append(events_for_month)\n",
    "    time.sleep(13) # only 5 free queries per minute"
   ]
  },
  {
   "cell_type": "code",
   "execution_count": null,
   "metadata": {},
   "outputs": [],
   "source": [
    "import json\n",
    "with open('holidays_per_month.json', 'w') as f:\n",
    "    json.dumps(f, holidays_per_month)"
   ]
  },
  {
   "cell_type": "code",
   "execution_count": 12,
   "metadata": {},
   "outputs": [],
   "source": [
    "import json\n",
    "with open('holidays_per_month.json', 'r') as f:\n",
    "    holidays_per_month = json.loads(f.read())"
   ]
  },
  {
   "cell_type": "markdown",
   "metadata": {},
   "source": [
    "## Step 3: Generating gift ideas for these special events\n",
    "\n",
    "In this step, we will create a list of holidays and special events in the UK for every month of the year.\n",
    "\n",
    "To do this:\n",
    "1. We create an LLM prompt with an holiday name as argument, and ask Cohere Generate to provide us with gift suggestions (about 10 gifts)\n",
    "2. This prompt contains an example, such that Cohere returns its answer as JSON list"
   ]
  },
  {
   "cell_type": "code",
   "execution_count": 15,
   "metadata": {},
   "outputs": [],
   "source": [
    "def ask_goods(name_of_holiday):\n",
    "    answer = co.generate(prompt=f'What 10 items one can buy for the {name_of_holiday} in the UK? Store the answer in a list of strings of the following format'+\"\"\": \n",
    "    \n",
    "    ```json\n",
    "    [\n",
    "        \"gift 1\",\n",
    "        \"gift 2\",\n",
    "        ...\n",
    "    ]\n",
    "    ```\"\"\")\n",
    "\n",
    "    presents_matches = re.findall(json_list_pattern, answer[0].text, flags=re.S)\n",
    "    presents = [match.replace('\\n', \"\") for match in presents_matches]\n",
    "    presents = [json.loads(present) for present in presents]\n",
    "    presents = [present for present_list in presents for present in present_list]\n",
    "    \n",
    "    return presents"
   ]
  },
  {
   "cell_type": "code",
   "execution_count": null,
   "metadata": {},
   "outputs": [],
   "source": [
    "from tqdm import tqdm\n",
    "presents_for_holidays = dict()\n",
    "\n",
    "for month in tqdm(range(len(events_and_holidays))):\n",
    "    for holiday in events_and_holidays[month]:\n",
    "        goods_for_holiday = ask_goods(holiday)\n",
    "        presents_for_holidays[holiday] = goods_for_holiday\n",
    "        # we write the file in the loop to see progress\n",
    "        with open('presents_for_holidays.json', 'w') as f:\n",
    "            f.write(json.dumps(presents_for_holidays, indent='\\t'))\n",
    "        time.sleep(13) # only 5 free queries per minute"
   ]
  },
  {
   "cell_type": "code",
   "execution_count": null,
   "metadata": {},
   "outputs": [],
   "source": [
    "with open('presents_for_holidays.json', 'w') as f:\n",
    "    f.write(json.dumps(presents_for_holidays, indent='\\t'))"
   ]
  },
  {
   "cell_type": "code",
   "execution_count": 17,
   "metadata": {},
   "outputs": [],
   "source": [
    "with open(\"presents_for_holidays.json\", \"r\") as f:\n",
    "    presents_for_holidays = json.loads(f.read())"
   ]
  },
  {
   "cell_type": "markdown",
   "metadata": {},
   "source": [
    "## Step 4: Selecting a relevant subset of products on offer based on the gift ideas\n",
    "\n",
    "In this step, we will create a list of the 15 best products to include in the newsletter.\n",
    "\n",
    "To do this:\n",
    "1. We compute embeddings for all the product names we have collected so far\n",
    "2. We compute embeddings for all the gifts suggestions made by the model\n",
    "3. We compute the cosine similarities between all combinations of products and gits\n",
    "4. We sort the products by their maximum similarity score with any of the gift ideas\n",
    "5. We only keep the 15 best ones, or less if fewer are at least somewhat similar (>0.5)"
   ]
  },
  {
   "cell_type": "code",
   "execution_count": 18,
   "metadata": {},
   "outputs": [],
   "source": [
    "from datetime import datetime\n",
    "\n",
    "# get the current month\n",
    "current_date = datetime.now()\n",
    "current_daynumber = current_date.day\n",
    "current_month = current_date.month - 1\n",
    "current_year = current_date.year"
   ]
  },
  {
   "cell_type": "code",
   "execution_count": 24,
   "metadata": {},
   "outputs": [
    {
     "name": "stdout",
     "output_type": "stream",
     "text": [
      "microwave cookware \t\t Cookware \t\t Score: 0.7709\n",
      "christmas rose bouquet \t\t Winter bouquet \t\t Score: 0.7456\n",
      "christmas wishes bouquet \t\t Winter bouquet \t\t Score: 0.7215\n",
      "purewick aromaguard candle \t\t Scented candle \t\t Score: 0.7180\n",
      "fitness accessories \t\t Fashion Accessories \t\t Score: 0.6950\n",
      "barrel bottle \t\t Bottle of wine \t\t Score: 0.6820\n",
      "edition blanc candle \t\t winter candle collection \t\t Score: 0.6810\n",
      "smart phone holder \t\t Smartphone \t\t Score: 0.6592\n",
      "edition blanc reed diffuser \t\t Ceramic diffuser \t\t Score: 0.6456\n",
      "purewick aromaguard reed diffuser \t\t Ceramic diffuser \t\t Score: 0.6262\n",
      "festive gift wrapped plant \t\t gift for Winter Solstice \t\t Score: 0.6003\n",
      "crofton brunch boards \t\t Cheese Boards \t\t Score: 0.5903\n",
      "3 pack fitness-socks \t\t fleece-lined socks \t\t Score: 0.5893\n",
      "adult fitness trainers \t\t Sneakers/Trainers \t\t Score: 0.5883\n",
      "3-in-1 cordeless vacuum \t\t Cordless vacuum cleaner \t\t Score: 0.5652\n"
     ]
    }
   ],
   "source": [
    "from sentence_transformers import SentenceTransformer, util\n",
    "model = SentenceTransformer('all-MiniLM-L6-v2')\n",
    "\n",
    "holidays_in_current_month = holidays_per_month[current_month]\n",
    "\n",
    "presents_in_current_month = []\n",
    "for holiday in holidays_in_current_month:\n",
    "    presents_in_current_month.append(\"gift for \" + holiday)\n",
    "    presents_in_current_month.extend(presents_for_holidays[holiday])\n",
    "\n",
    "sentences1 = [product[\"name\"] for product in all_products]\n",
    "sentences2 = [present for present in presents_in_current_month]\n",
    "\n",
    "#Compute embedding for both lists\n",
    "embeddings1 = model.encode(sentences1, convert_to_tensor=True)\n",
    "embeddings2 = model.encode(sentences2, convert_to_tensor=True)\n",
    "\n",
    "#Compute cosine-similarities\n",
    "cosine_scores = util.cos_sim(embeddings1, embeddings2)\n",
    "\n",
    "#Output the pairs with their score\n",
    "good_matches = []\n",
    "for i in range(len(sentences1)):\n",
    "    best_score = 0.0\n",
    "    best_j = -1\n",
    "    for j in range(len(sentences2)):\n",
    "        score = cosine_scores[i][j].item()\n",
    "        if score > best_score:\n",
    "            best_score = score\n",
    "            best_j = j\n",
    "    if best_score > 0.5:\n",
    "        good_matches.append((sentences1[i], sentences2[best_j], best_score))\n",
    "        #print(\"{} \\t\\t {} \\t\\t Score: {:.4f}\".format(sentences1[i], sentences2[j], cosine_scores[i][j]))\n",
    "\n",
    "good_matches.sort(key=lambda x:x[2], reverse=True)\n",
    "\n",
    "# print a few gifts\n",
    "for product_name, type_of_gift, score in good_matches[0:15]:\n",
    "    print(\"{} \\t\\t {} \\t\\t Score: {:.4f}\".format(product_name, type_of_gift, score))\n"
   ]
  },
  {
   "cell_type": "markdown",
   "metadata": {},
   "source": [
    "## Step 5: Generating a newsletter based on that subset of products\n",
    "\n",
    "In this step, we generate the text of the newsletter using Cohere Chat, which produced better output for this than Cohere Generate.\n",
    "\n",
    "To do this, we:\n",
    "1. determine the holidays for which we have gift suggestions\n",
    "2. compute the urls of the selected products\n",
    "3. fill in the prompt used to make the newsletter\n",
    "4. the prompt contains an example for another month and a different set of products, to help the LLM use the right tone and format."
   ]
  },
  {
   "cell_type": "code",
   "execution_count": 26,
   "metadata": {},
   "outputs": [
    {
     "name": "stdout",
     "output_type": "stream",
     "text": [
      "{'Christmas Day', 'Saturnalia', 'Christmas Markets', 'Christmas Eve', 'Hanukkah', 'Teen Tech', 'Boxing Day', 'Winter Solstice', \"St. Stephen's Day\"}\n"
     ]
    }
   ],
   "source": [
    "#make a list of holidays for which I have items \n",
    "holidays_with_presents = set()\n",
    "for match in good_matches[0:15]:\n",
    "    for key, value in presents_for_holidays.items():\n",
    "        if \"gift for \" + key == match[1]:\n",
    "            holidays_with_presents.add(key)\n",
    "        for gift in value:\n",
    "            if gift == match[1]:\n",
    "                holidays_with_presents.add(key)\n",
    "\n",
    "print(holidays_with_presents)"
   ]
  },
  {
   "cell_type": "code",
   "execution_count": 27,
   "metadata": {},
   "outputs": [
    {
     "name": "stdout",
     "output_type": "stream",
     "text": [
      "{'christmas wishes bouquet': 'https://www.aldi.co.uk/christmas-wishes-bouquet/p/732746763384800', '3-in-1 cordeless vacuum': 'https://www.aldi.co.uk/3-in-1-cordeless-vacuum/p/729810767558000', 'christmas rose bouquet': 'https://www.aldi.co.uk/christmas-rose-bouquet/p/732750763361600', 'adult fitness trainers': 'https://www.aldi.co.uk/adult-fitness-trainers/p/828606752395800', 'festive gift wrapped plant': 'https://www.aldi.co.uk/festive-gift-wrapped-plant/p/716326560794700', 'edition blanc reed diffuser': 'https://www.aldi.co.uk/edition-blanc-reed-diffuser/p/732248768358300', 'microwave cookware': 'https://www.aldi.co.uk/microwave-cookware/p/730353770272600', 'smart phone holder': 'https://www.aldi.co.uk/smart-phone-holder/p/727845770067200', 'crofton brunch boards': 'https://www.aldi.co.uk/crofton-brunch-boards/p/730467770494900', 'edition blanc candle': 'https://www.aldi.co.uk/edition-blanc-candle/p/732247768656400', '3 pack fitness-socks': 'https://www.aldi.co.uk/3-pack-fitness-socks/p/829785761713600', 'fitness accessories': 'https://www.aldi.co.uk/fitness-accessories/p/729753764961100', 'barrel bottle': 'https://www.aldi.co.uk/barrel-bottle/p/730524766820900', 'purewick aromaguard candle': 'https://www.aldi.co.uk/purewick-aromaguard-candle/p/725334700590200', 'purewick aromaguard reed diffuser': 'https://www.aldi.co.uk/purewick-aromaguard-reed-diffuser/p/725335700590400'}\n"
     ]
    }
   ],
   "source": [
    "# compute the urls for the products\n",
    "def create_url(prod_info, matches_list):\n",
    "    products_and_links = dict()\n",
    "    for prod in prod_info:\n",
    "        for m in matches_list:\n",
    "            if m[0] == prod[\"name\"]:\n",
    "                name_for_link = prod[\"name\"].replace(\" \", \"-\")\n",
    "                id = prod[\"id\"]\n",
    "                prod_adress = f\"https://www.aldi.co.uk/{name_for_link}/p/{id}\"\n",
    "                products_and_links[prod[\"name\"]] = prod_adress\n",
    "    return products_and_links\n",
    "\n",
    "gifts_with_adresses = create_url(all_products, good_matches[0:15])\n",
    "print(gifts_with_adresses)"
   ]
  },
  {
   "cell_type": "code",
   "execution_count": 28,
   "metadata": {},
   "outputs": [],
   "source": [
    "with open (\"gifts_with_adresses.json\", \"w\") as outfile:\n",
    "    outfile.write(json.dumps(gifts_with_adresses))"
   ]
  },
  {
   "cell_type": "code",
   "execution_count": 29,
   "metadata": {},
   "outputs": [],
   "source": [
    "with open (\"holidays_with_presents.json\", \"w\") as outfile:\n",
    "    outfile.write(json.dumps(list(holidays_with_presents)))\n"
   ]
  },
  {
   "cell_type": "code",
   "execution_count": 30,
   "metadata": {},
   "outputs": [],
   "source": [
    "list_h = \", \".join(holidays_with_presents)\n",
    "list_p = \", \".join([f'<a href=\"{url}\">{product_name}</a>' for product_name, url in gifts_with_adresses.items()])"
   ]
  },
  {
   "cell_type": "code",
   "execution_count": 31,
   "metadata": {},
   "outputs": [],
   "source": [
    "#\n",
    "prompt = f\"\"\"Please, write a newsletter of about 150 words for the Aldi UK chain store.\n",
    "Today's date is the {current_daynumber}th of {months[current_month]}, {current_year}.\n",
    "Sign the newsletter by ending with \"Happy shopping!\"\n",
    "The newsletter should mention about some of the holidays and special events of the month that are provided in the following list: {list_h}.\n",
    "The newsletter should link using HTML links (e.g. checkout our <a href=\"https://www.aldi.co.uk/product-name/p/1234567\">product</a>) to some items you can buy in the store, based on the following list: {list_p}.\n",
    "Never mention a gift twice, and be creative. \n",
    "\"\"\"\n",
    "\n",
    "example_prompt = \"\"\"\n",
    "Please, write a newsletter of about 150 words for the Aldi UK chain store.\n",
    "Today's date is the 29th of June, 2024.\n",
    "Sign the newsletter by ending with \"Happy shopping!\"\n",
    "The newsletter should mention about some of the holidays and special events of the month that are provided in the following list: Wimbledon, Pride in London.\n",
    "The newsletter should link using HTML links (e.g. checkout our <a href=\"https://www.aldi.co.uk/product-name/p/1234567\">product</a>) to some items you can buy in the store, based on the following list: <a href=\"https://www.aldi.co.uk/tennis-balls-set-of-6/p/52176\">tennis balls (set of 6)</a>, <a href=\"https://www.aldi.co.uk/rainbow-umbrella/p/69420\">rainbow umbrella</a>.\n",
    "Never mention a gift twice, and be creative. \n",
    "\"\"\"\n",
    "\n",
    "example_answer = \"\"\"Hey there! \n",
    "\n",
    "As we dive into the vibrant month of June, Aldi has your summer essentials ready to shine! 🌈 Gear up for Wimbledon with our <a href=\"https://www.aldi.co.uk/tennis-balls-set-of-6/p/52176\">set of tennis balls</a>, perfect for your match-winning serves. Don't let the unpredictable British weather rain on your parade – grab our stylish <a href=\"https://www.aldi.co.uk/rainbow-umbrella/p/69420\">rainbow umbrella</a> to stay dry and fabulous!\n",
    "\n",
    "In the spirit of inclusivity, we celebrate Pride in London with a range of diverse products. Embrace the colors of love and show your support!\n",
    "\n",
    "Stay tuned for more exciting offers and surprises at your nearest Aldi store.\n",
    "\n",
    "Happy shopping! \n",
    "\"\"\""
   ]
  },
  {
   "cell_type": "code",
   "execution_count": 33,
   "metadata": {},
   "outputs": [
    {
     "name": "stdout",
     "output_type": "stream",
     "text": [
      "Hello there! \n",
      "\n",
      "As we approach the festive season, Aldi has plenty of offers to make your holidays magical! This month, we're celebrating Christmas, Saturnalia, Christmas Markets, Christmas Eve, Hanukkah, Teen Tech, Boxing Day, Winter Solstice, and St. Stephen's Day. \n",
      "\n",
      "Get into the holiday spirit with our selection of gifts, including the <a href=\"https://www.aldi.co.uk/christmas-wishes-bouquet/p/732746763384800\">Christmas Wishes Bouquet</a>, the <a href=\"https://www.aldi.co.uk/3-in-1-cordeless-vacuum/p/729810767558000\">3-in-1 Cordless Vacuum</a> for effortless cleaning, and our <a href=\"https://www.aldi.co.uk/christmas-rose-bouquet/p/732750763361600\">Christmas Rose Bouquet</a> to add a touch of elegance to your gatherings. \n",
      "\n",
      "We know you love staying active, so why not check out our <a href=\"https://www.aldi.co.uk/adult-fitness-trainers/p/828606752395800\">Adult Fitness Trainers</a> or our <a href=\"https://www.aldi.co.uk/3-pack-fitness-socks/p/829785761713600\">3 Pack Fitness Socks</a>? For those who love to entertain, our <a href=\"https://www.aldi.co.uk/crofton-brunch-boards/p/730467770494900\">Crocket Brunch Boards</a> and <a href=\"https://www.aldi.co.uk/microwave-cookware/p/730353770272600\">Microwave Cookware</a> will make hosting a breeze. Don't forget to grab our <a href=\"https://www.aldi.co.uk/edition-blanc-reed-diffuser/p/732248768358300\">Edition Blanc Reed Diffuser</a> or <a href=\"https://www.aldi.co.uk/edition-blanc-candle/p/732247768656400\">Edition Blanc Candle</a> for a delightful aroma, and explore our <a href=\"https://www.aldi.co.uk/smart-phone-holder/p/727845770067200\">Smart Phone Holder</a> to capture all the holiday memories. \n",
      "\n",
      "Don't miss out on our <a href=\"https://www.aldi.co.uk/barrel-bottle/p/730524766820900\">Barrel Bottle</a> for festive drinks and our <a href=\"https://www.aldi.co.uk/purewick-aromaguard-candle/p/725334700590200\">Purewick Aromaguard Candle</a> for a cosy night in. \n",
      "\n",
      "Happy shopping! \n",
      "\n",
      "Aldi wishes you a joyous holiday season and a prosperous new year. \n",
      "\n",
      "Author: [Your Name] \n"
     ]
    }
   ],
   "source": [
    "answer = co.chat(\n",
    "    chat_history=[\n",
    "        {\"role\": \"USER\", \"message\": example_prompt},\n",
    "        {\"role\": \"CHATBOT\", \"message\": example_answer}\n",
    "    ],\n",
    "    message=prompt\n",
    ")\n",
    "print(answer.text)"
   ]
  }
 ],
 "metadata": {
  "kernelspec": {
   "display_name": "Python 3",
   "language": "python",
   "name": "python3"
  },
  "language_info": {
   "codemirror_mode": {
    "name": "ipython",
    "version": 3
   },
   "file_extension": ".py",
   "mimetype": "text/x-python",
   "name": "python",
   "nbconvert_exporter": "python",
   "pygments_lexer": "ipython3",
   "version": "3.10.11"
  }
 },
 "nbformat": 4,
 "nbformat_minor": 2
}
