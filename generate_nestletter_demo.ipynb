{
 "cells": [
  {
   "cell_type": "markdown",
   "metadata": {},
   "source": [
    "# Newsletter generation from special products & current date\n",
    "\n",
    "In this notebook, we demonstrate how to use the free Cohere API to generate a date-appropriate newsletter for retail store Aldi UK, based on the products they currently sell in their stores. The goal is to create an email-looking newsletter with links to products from the store its customers could buy, all in the form of a marketing email.\n",
    "\n",
    "We perform this task using a sequence of steps:\n",
    "\n",
    "1. Scrape the special products currently on offer (using Selenium)\n",
    "2. Generate holidays and celebrations relevant to the current month (using Cohere Generate)\n",
    "3. Generating gift ideas for these special events (using Cohere Generate)\n",
    "4. Selecting a relevant subset of products on offer based on the gift ideas (using Sentence Embeddings)\n",
    "5. Generating a newsletter based on that subset of products (using Cohere Chat)"
   ]
  },
  {
   "cell_type": "markdown",
   "metadata": {},
   "source": [
    "## Step 1: Scrape the special products currently on offer\n",
    "\n",
    "In this step, we will use Selenium to scrape all the special products from the Aldi UK website.\n",
    "\n",
    "We do so by :\n",
    "\n",
    "1. nativating to the \"https://www.aldi.co.uk/c/specialbuys/specialbuyscategories\" webpage, \n",
    "2. clicking away the cookies banner\n",
    "3. repeatedly click the \"load more\" button until all items are visible\n",
    "4. find all instances of class \"gtm-product-data\" on the page, which already contains JSON info about the products"
   ]
  },
  {
   "cell_type": "code",
   "execution_count": 1,
   "metadata": {},
   "outputs": [
    {
     "name": "stdout",
     "output_type": "stream",
     "text": [
      "[{'id': '729481770272400', 'name': 'gaming alarm clock', 'price': 14.99, 'brand': 'paladone', 'dimension5': 'unavailable', 'unitPrice': 'each', 'productOnline': False, 'stateKey': 'instore.available', 'multiDrop': False, 'list': 'products category search | specialbuyscategories', 'position': 1}, {'id': '828337767850501', 'name': 'acacia wood boards 2 pack', 'price': 6.99, 'brand': 'kirkton house', 'dimension5': 'unavailable', 'unitPrice': 'each', 'productOnline': False, 'stateKey': 'instore.available', 'multiDrop': False, 'list': 'products category search | specialbuyscategories', 'position': 2}, {'id': '730521769785600', 'name': 'kilner breakfast jar set', 'price': 6.99, 'brand': 'kilner', 'dimension5': 'unavailable', 'unitPrice': 'each', 'productOnline': False, 'stateKey': 'instore.preview', 'multiDrop': False, 'list': 'products category search | specialbuyscategories', 'position': 3}, {'id': '827115759997700', 'name': 'auto xs full car cover mix', 'price': 12.99, 'brand': 'auto xs', 'dimension5': 'unavailable', 'unitPrice': 'each', 'productOnline': False, 'stateKey': 'instore.available', 'multiDrop': False, 'list': 'products category search | specialbuyscategories', 'position': 4}, {'id': '732746763384800', 'name': 'christmas wishes bouquet', 'price': 14.99, 'brand': 'specially selected', 'dimension5': 'unavailable', 'unitPrice': 'each', 'productOnline': False, 'stateKey': 'instore.available', 'multiDrop': False, 'list': 'products category search | specialbuyscategories', 'position': 5}, {'id': '725325753672600', 'name': 'persil laundry bio liquid', 'price': 6.99, 'brand': 'persil', 'dimension5': 'unavailable', 'unitPrice': '11.6p/wash, £4.31/litre', 'productOnline': False, 'stateKey': 'instore.available', 'multiDrop': False, 'list': 'products category search | specialbuyscategories', 'position': 6}, {'id': '827830761420400', 'name': 'auto xs heavy duty seat cover', 'price': 7.99, 'brand': 'auto xs', 'dimension5': 'unavailable', 'unitPrice': 'each', 'productOnline': False, 'stateKey': 'instore.available', 'multiDrop': False, 'list': 'products category search | specialbuyscategories', 'position': 7}, {'id': '729798769863700', 'name': 'led hollywood mirror', 'price': 29.99, 'brand': 'visage', 'dimension5': 'unavailable', 'unitPrice': 'each', 'productOnline': False, 'stateKey': 'instore.available', 'multiDrop': False, 'list': 'products category search | specialbuyscategories', 'position': 8}, {'id': '728898772091100', 'name': 'persil 3-in-1 pods 66 washes', 'price': 14.25, 'brand': 'persil', 'dimension5': 'unavailable', 'unitPrice': '21.6p/wash, £8.00/kg', 'productOnline': False, 'stateKey': 'instore.preview', 'multiDrop': False, 'list': 'products category search | specialbuyscategories', 'position': 9}, {'id': '729656759588300', 'name': 'murder mystery cold case files', 'price': 12.99, 'dimension5': 'unavailable', 'unitPrice': 'each', 'productOnline': False, 'stateKey': 'instore.available', 'multiDrop': False, 'list': 'products category search | specialbuyscategories', 'position': 10}, {'id': '725903767127201', 'name': 'addis spray mop', 'price': 12.99, 'brand': 'addis', 'dimension5': 'unavailable', 'unitPrice': 'each', 'productOnline': False, 'stateKey': 'instore.available', 'multiDrop': False, 'list': 'products category search | specialbuyscategories', 'position': 11}, {'id': '828337767903000', 'name': 'large acacia wood boards', 'price': 6.99, 'brand': 'kirkton house', 'dimension5': 'unavailable', 'unitPrice': 'each', 'productOnline': False, 'stateKey': 'instore.available', 'multiDrop': False, 'list': 'products category search | specialbuyscategories', 'position': 12}, {'id': '730468770276200', 'name': 'crofton food flask', 'price': 6.99, 'brand': 'crofton', 'dimension5': 'unavailable', 'unitPrice': 'each', 'productOnline': False, 'stateKey': 'instore.preview', 'multiDrop': False, 'list': 'products category search | specialbuyscategories', 'position': 13}, {'id': '729489763905305', 'name': 'gnorman the gonk squishee', 'price': 6.99, 'brand': 'squishees', 'dimension5': 'unavailable', 'productOnline': False, 'stateKey': 'instore.available', 'multiDrop': False, 'list': 'products category search | specialbuyscategories', 'position': 14}, {'id': '729810767558000', 'name': '3-in-1 cordeless vacuum', 'price': 49.99, 'brand': 'ambiano professional', 'dimension5': 'unavailable', 'unitPrice': 'each', 'productOnline': False, 'stateKey': 'instore.available', 'multiDrop': False, 'list': 'products category search | specialbuyscategories', 'position': 15}, {'id': '728994770068400', 'name': 'gaming headset light', 'price': 12.99, 'brand': 'paladone', 'dimension5': 'unavailable', 'unitPrice': 'each', 'productOnline': False, 'stateKey': 'instore.available', 'multiDrop': False, 'list': 'products category search | specialbuyscategories', 'position': 16}, {'id': '829281763609200', 'name': 'auto xs vehicle fault code reader', 'price': 16.99, 'brand': 'auto xs', 'dimension5': 'unavailable', 'unitPrice': 'each', 'productOnline': False, 'stateKey': 'instore.available', 'multiDrop': False, 'list': 'products category search | specialbuyscategories', 'position': 17}, {'id': '828376765201801', 'name': 'auto xs windscreen cover', 'price': 7.99, 'brand': 'auto xs', 'dimension5': 'unavailable', 'unitPrice': 'each', 'productOnline': False, 'stateKey': 'instore.available', 'multiDrop': False, 'list': 'products category search | specialbuyscategories', 'position': 18}, {'id': '732750763361600', 'name': 'christmas rose bouquet', 'price': 14.99, 'brand': 'specially selected', 'dimension5': 'unavailable', 'unitPrice': 'each', 'productOnline': False, 'stateKey': 'instore.available', 'multiDrop': False, 'list': 'products category search | specialbuyscategories', 'position': 19}, {'id': '735772771856900', 'name': 'persil bio & non-bio powder', 'price': 7.49, 'brand': 'persil', 'dimension5': 'unavailable', 'unitPrice': '12.5p/wash, £3.57/kg', 'productOnline': False, 'stateKey': 'instore.preview', 'multiDrop': False, 'list': 'products category search | specialbuyscategories', 'position': 20}, {'id': '730216763907701', 'name': 'lacura cleansing balm', 'price': 6.99, 'brand': 'lacura', 'dimension5': 'unavailable', 'unitPrice': '£6.99 per 100g', 'productOnline': False, 'stateKey': 'instore.preview', 'multiDrop': False, 'list': 'products category search | specialbuyscategories', 'position': 21}, {'id': '729805768674200', 'name': 'neck & shoulder massager', 'price': 24.99, 'brand': 'visage', 'dimension5': 'unavailable', 'unitPrice': 'each', 'productOnline': False, 'stateKey': 'instore.available', 'multiDrop': False, 'list': 'products category search | specialbuyscategories', 'position': 22}, {'id': '730521767854101', 'name': 'kilner soup jar set', 'price': 6.99, 'brand': 'kilner', 'dimension5': 'unavailable', 'unitPrice': 'each', 'productOnline': False, 'stateKey': 'instore.preview', 'multiDrop': False, 'list': 'products category search | specialbuyscategories', 'position': 23}, {'id': '725324753672400', 'name': 'persil laundry liquid non-bio', 'price': 6.99, 'brand': 'persil', 'dimension5': 'unavailable', 'unitPrice': '11.6p/wash, £4.31/litre', 'productOnline': False, 'stateKey': 'instore.available', 'multiDrop': False, 'list': 'products category search | specialbuyscategories', 'position': 24}, {'id': '726728766802101', 'name': 'mr muscle sink & drain gel 2 pack', 'price': 6.99, 'brand': 'mr muscle', 'dimension5': 'unavailable', 'unitPrice': '£3.50 per litre', 'productOnline': False, 'stateKey': 'instore.available', 'multiDrop': False, 'list': 'products category search | specialbuyscategories', 'position': 25}, {'id': '716141768112601', 'name': 'large house plant 17cm', 'price': 8.99, 'brand': 'roots & blooms', 'dimension5': 'unavailable', 'unitPrice': 'each', 'productOnline': False, 'stateKey': 'instore.preview', 'multiDrop': False, 'list': 'products category search | specialbuyscategories', 'position': 26}, {'id': '733539768839200', 'name': 'ambiano mini chopper', 'price': 12.99, 'brand': 'ambiano', 'dimension5': 'unavailable', 'unitPrice': 'each', 'productOnline': False, 'stateKey': 'instore.preview', 'multiDrop': False, 'list': 'products category search | specialbuyscategories', 'position': 27}, {'id': '730511769054700', 'name': 'ambiano portable blender', 'price': 12.99, 'brand': 'ambiano', 'dimension5': 'unavailable', 'unitPrice': 'each', 'productOnline': False, 'stateKey': 'instore.preview', 'multiDrop': False, 'list': 'products category search | specialbuyscategories', 'position': 28}, {'id': '729799769706900', 'name': 'solas led face mask', 'price': 49.99, 'brand': 'visage', 'dimension5': 'unavailable', 'unitPrice': 'each', 'productOnline': False, 'stateKey': 'instore.available', 'multiDrop': False, 'list': 'products category search | specialbuyscategories', 'position': 29}, {'id': '730521767854302', 'name': 'kilner smoothie jar set', 'price': 6.99, 'brand': 'kilner', 'dimension5': 'unavailable', 'unitPrice': 'each', 'productOnline': False, 'stateKey': 'instore.preview', 'multiDrop': False, 'list': 'products category search | specialbuyscategories', 'position': 30}, {'id': '828376764573000', 'name': 'auto xs heated seat cover', 'price': 7.99, 'brand': 'auto xs', 'dimension5': 'unavailable', 'unitPrice': 'each', 'productOnline': False, 'stateKey': 'instore.available', 'multiDrop': False, 'list': 'products category search | specialbuyscategories', 'position': 31}, {'id': '729797770191900', 'name': 'visage ionic hairdryer', 'price': 14.99, 'brand': 'visage', 'dimension5': 'unavailable', 'unitPrice': 'each', 'productOnline': False, 'stateKey': 'instore.available', 'multiDrop': False, 'list': 'products category search | specialbuyscategories', 'position': 32}, {'id': '734389770073600', 'name': 'zoflora carpet foam freshener', 'price': 5.99, 'brand': 'zoflora', 'dimension5': 'unavailable', 'unitPrice': '£9.98 per litre', 'productOnline': False, 'stateKey': 'instore.available', 'multiDrop': False, 'list': 'products category search | specialbuyscategories', 'position': 33}, {'id': '828606752395800', 'name': 'adult fitness trainers', 'price': 12.99, 'brand': 'crane', 'dimension5': 'unavailable', 'unitPrice': 'per pair', 'productOnline': False, 'stateKey': 'instore.preview', 'multiDrop': False, 'list': 'products category search | specialbuyscategories', 'position': 34}, {'id': '829185755840800', 'name': 'gym ball', 'price': 8.99, 'brand': 'crane', 'dimension5': 'unavailable', 'unitPrice': 'each', 'productOnline': False, 'stateKey': 'instore.preview', 'multiDrop': False, 'list': 'products category search | specialbuyscategories', 'position': 35}, {'id': '828664764573200', 'name': 'slam ball', 'price': 9.99, 'brand': 'crane', 'dimension5': 'unavailable', 'unitPrice': 'each', 'productOnline': False, 'stateKey': 'instore.preview', 'multiDrop': False, 'list': 'products category search | specialbuyscategories', 'position': 36}, {'id': '819541765338201', 'name': '6kg kettle bell', 'price': 9.99, 'brand': 'crane', 'dimension5': 'unavailable', 'unitPrice': 'each', 'productOnline': False, 'stateKey': 'instore.preview', 'multiDrop': False, 'list': 'products category search | specialbuyscategories', 'position': 37}, {'id': '819543765337800', 'name': '8kg kettle bell', 'price': 12.99, 'brand': 'crane', 'dimension5': 'unavailable', 'unitPrice': 'each', 'productOnline': False, 'stateKey': 'instore.preview', 'multiDrop': False, 'list': 'products category search | specialbuyscategories', 'position': 38}, {'id': '829185768608701', 'name': 'acupressure mat', 'price': 8.99, 'brand': 'crane', 'dimension5': 'unavailable', 'unitPrice': 'each', 'productOnline': False, 'stateKey': 'instore.preview', 'multiDrop': False, 'list': 'products category search | specialbuyscategories', 'position': 39}, {'id': '730258770066800', 'name': 'salter glass analyser scale', 'price': 12.99, 'brand': 'salter', 'dimension5': 'unavailable', 'unitPrice': 'each', 'productOnline': False, 'stateKey': 'instore.preview', 'multiDrop': False, 'list': 'products category search | specialbuyscategories', 'position': 40}, {'id': '729729753773900', 'name': '20kg weighted bag', 'price': 24.99, 'brand': 'crane', 'dimension5': 'unavailable', 'unitPrice': 'each', 'productOnline': False, 'stateKey': 'instore.preview', 'multiDrop': False, 'list': 'products category search | specialbuyscategories', 'position': 41}, {'id': '729728753771500', 'name': '10kg weighted bag', 'price': 19.99, 'brand': 'crane', 'dimension5': 'unavailable', 'unitPrice': 'each', 'productOnline': False, 'stateKey': 'instore.preview', 'multiDrop': False, 'list': 'products category search | specialbuyscategories', 'position': 42}, {'id': '828825755840600', 'name': 'yoga assortment', 'price': 5.99, 'brand': 'crane', 'dimension5': 'unavailable', 'unitPrice': 'each', 'productOnline': False, 'stateKey': 'instore.preview', 'multiDrop': False, 'list': 'products category search | specialbuyscategories', 'position': 43}, {'id': '824736757951200', 'name': 'ladies fitness leggings & trousers', 'price': 6.99, 'brand': 'crane', 'dimension5': 'unavailable', 'unitPrice': 'each', 'productOnline': False, 'stateKey': 'instore.preview', 'multiDrop': False, 'list': 'products category search | specialbuyscategories', 'position': 44}, {'id': '824814757950600', 'name': 'ladies active pullover & hoodie', 'price': 9.99, 'brand': 'crane', 'dimension5': 'unavailable', 'unitPrice': 'each', 'productOnline': False, 'stateKey': 'instore.preview', 'multiDrop': False, 'list': 'products category search | specialbuyscategories', 'position': 45}, {'id': '828498757954600', 'name': 'sports bag', 'price': 12.99, 'brand': 'crane sports', 'dimension5': 'unavailable', 'unitPrice': 'each', 'productOnline': False, 'stateKey': 'instore.preview', 'multiDrop': False, 'list': 'products category search | specialbuyscategories', 'position': 46}, {'id': '828612764751000', 'name': 'dumbbell set 1kg/2kg/3kg', 'price': 9.99, 'brand': 'crane', 'dimension5': 'unavailable', 'unitPrice': 'each', 'productOnline': False, 'stateKey': 'instore.preview', 'multiDrop': False, 'list': 'products category search | specialbuyscategories', 'position': 47}, {'id': '828813765422300', 'name': 'adjustable step', 'price': 12.99, 'brand': 'crane', 'dimension5': 'unavailable', 'unitPrice': 'each', 'productOnline': False, 'stateKey': 'instore.preview', 'multiDrop': False, 'list': 'products category search | specialbuyscategories', 'position': 48}, {'id': '829228765530900', 'name': 'dumbbell set', 'price': 19.99, 'brand': 'crane', 'dimension5': 'unavailable', 'unitPrice': 'each', 'productOnline': False, 'stateKey': 'instore.preview', 'multiDrop': False, 'list': 'products category search | specialbuyscategories', 'position': 49}, {'id': '083397449792504', 'name': 'lacura miracle cream', 'price': 4.49, 'brand': 'lacura', 'dimension5': 'available', 'unitPrice': '£8.98 per 100ml', 'productOnline': False, 'stateKey': 'instore.available', 'multiDrop': False, 'list': 'products category search | specialbuyscategories', 'position': 50}, {'id': '821336691411201', 'name': 'kirkton house salad cube', 'price': 4.99, 'brand': 'kirkton house', 'dimension5': 'unavailable', 'unitPrice': 'each', 'productOnline': False, 'stateKey': 'instore.preview', 'multiDrop': False, 'list': 'products category search | specialbuyscategories', 'position': 51}, {'id': '821336689086700', 'name': 'kirkton house bento box', 'price': 4.99, 'brand': 'kirkton house', 'dimension5': 'unavailable', 'unitPrice': 'each', 'productOnline': False, 'stateKey': 'instore.preview', 'multiDrop': False, 'list': 'products category search | specialbuyscategories', 'position': 52}, {'id': '828888763539200', 'name': 'crofton large glass storage', 'price': 3.99, 'brand': 'crofton', 'dimension5': 'unavailable', 'unitPrice': 'each', 'productOnline': False, 'stateKey': 'instore.preview', 'multiDrop': False, 'list': 'products category search | specialbuyscategories', 'position': 53}, {'id': '729673767376800', 'name': 'festive cushion covers', 'price': 3.99, 'brand': 'kirkton house', 'dimension5': 'unavailable', 'productOnline': False, 'stateKey': 'instore.available', 'multiDrop': False, 'list': 'products category search | specialbuyscategories', 'position': 54}, {'id': '828889767854701', 'name': 'crofton 2 small glass dish', 'price': 3.99, 'brand': 'crofton', 'dimension5': 'unavailable', 'unitPrice': 'each', 'productOnline': False, 'stateKey': 'instore.preview', 'multiDrop': False, 'list': 'products category search | specialbuyscategories', 'position': 55}, {'id': '730351770276400', 'name': 'crofton water tracker bottle', 'price': 3.49, 'brand': 'crofton', 'dimension5': 'unavailable', 'unitPrice': 'each', 'productOnline': False, 'stateKey': 'instore.preview', 'multiDrop': False, 'list': 'products category search | specialbuyscategories', 'position': 56}, {'id': '716326560794700', 'name': 'festive gift wrapped plant', 'price': 4.99, 'brand': 'perfect christmas', 'dimension5': 'unavailable', 'unitPrice': 'each', 'wasPrice': 9.99, 'productOnline': False, 'stateKey': 'instore.available', 'multiDrop': False, 'list': 'products category search | specialbuyscategories', 'position': 57}, {'id': '732466745459600', 'name': 'sunshiny days fabric conditioner', 'price': 2.49, 'brand': 'comfort', 'dimension5': 'unavailable', 'unitPrice': '5.2p/wash, £1.73 per litre', 'productOnline': False, 'stateKey': 'instore.preview', 'multiDrop': False, 'list': 'products category search | specialbuyscategories', 'position': 58}, {'id': '727816754111800', 'name': 'kirkton house dustpan & brush', 'price': 1.99, 'brand': 'kirkton house', 'dimension5': 'unavailable', 'unitPrice': 'each', 'productOnline': False, 'stateKey': 'instore.available', 'multiDrop': False, 'list': 'products category search | specialbuyscategories', 'position': 59}, {'id': '732465745783200', 'name': 'comfort fabric conditioner', 'price': 2.49, 'brand': 'comfort', 'dimension5': 'unavailable', 'unitPrice': '5.2p/wash, £1.73/litre', 'productOnline': False, 'stateKey': 'instore.preview', 'multiDrop': False, 'list': 'products category search | specialbuyscategories', 'position': 60}, {'id': '727816768004900', 'name': 'dustpan & brush', 'price': 1.99, 'brand': 'kirkton house', 'dimension5': 'unavailable', 'unitPrice': 'each', 'productOnline': False, 'stateKey': 'instore.available', 'multiDrop': False, 'list': 'products category search | specialbuyscategories', 'position': 61}, {'id': '732248768358300', 'name': 'edition blanc reed diffuser', 'price': 3.29, 'brand': 'hotel collection', 'dimension5': 'unavailable', 'unitPrice': '£4.11 per 100ml', 'productOnline': False, 'stateKey': 'instore.available', 'multiDrop': False, 'list': 'products category search | specialbuyscategories', 'position': 62}, {'id': '734379768011100', 'name': 'lenor seasonal fabric conditioner', 'price': 3.49, 'brand': 'lenor', 'dimension5': 'unavailable', 'unitPrice': '7p/wash, £2.12/litre', 'productOnline': False, 'stateKey': 'instore.available', 'multiDrop': False, 'list': 'products category search | specialbuyscategories', 'position': 63}, {'id': '730463772468300', 'name': 'crofton nested lunchboxes', 'price': 4.99, 'brand': 'crofton', 'dimension5': 'unavailable', 'unitPrice': 'each', 'productOnline': False, 'stateKey': 'instore.preview', 'multiDrop': False, 'list': 'products category search | specialbuyscategories', 'position': 64}, {'id': '728203759658900', 'name': 'mindful colouring book', 'price': 3.99, 'brand': 'lake press', 'dimension5': 'unavailable', 'productOnline': False, 'stateKey': 'instore.available', 'multiDrop': False, 'list': 'products category search | specialbuyscategories', 'position': 65}, {'id': '828889766419100', 'name': 'crofton 3 snack dish glass', 'price': 3.99, 'brand': 'crofton', 'dimension5': 'unavailable', 'unitPrice': 'each', 'productOnline': False, 'stateKey': 'instore.preview', 'multiDrop': False, 'list': 'products category search | specialbuyscategories', 'position': 66}, {'id': '730332770297200', 'name': 'foolproof cookbook', 'price': 3.99, 'dimension5': 'unavailable', 'unitPrice': 'each', 'productOnline': False, 'stateKey': 'instore.preview', 'multiDrop': False, 'list': 'products category search | specialbuyscategories', 'position': 67}, {'id': '732347744099900', 'name': 'zoflora multipurpose disinfectant', 'price': 2.39, 'brand': 'zoflora', 'dimension5': 'unavailable', 'unitPrice': '£2.99 per litre', 'productOnline': False, 'stateKey': 'instore.available', 'multiDrop': False, 'list': 'products category search | specialbuyscategories', 'position': 68}, {'id': '730021763583100', 'name': 'eat like a champion cookbook', 'price': 4.99, 'brand': 'hachette', 'dimension5': 'unavailable', 'unitPrice': 'each', 'productOnline': False, 'stateKey': 'instore.available', 'multiDrop': False, 'list': 'products category search | specialbuyscategories', 'position': 69}, {'id': '729567764750600', 'name': 'redex twinpack mix', 'price': 4.99, 'brand': 'redex', 'dimension5': 'unavailable', 'unitPrice': '£1.00 per 100ml', 'productOnline': False, 'stateKey': 'instore.available', 'multiDrop': False, 'list': 'products category search | specialbuyscategories', 'position': 70}, {'id': '730353770272600', 'name': 'microwave cookware', 'price': 4.99, 'brand': 'good 2 heat', 'dimension5': 'unavailable', 'unitPrice': 'each', 'productOnline': False, 'stateKey': 'instore.preview', 'multiDrop': False, 'list': 'products category search | specialbuyscategories', 'position': 71}, {'id': '730538770505300', 'name': 'kirkton house duster assortment', 'price': 1.69, 'brand': 'kirkton house', 'dimension5': 'unavailable', 'unitPrice': 'each', 'productOnline': False, 'stateKey': 'instore.preview', 'multiDrop': False, 'list': 'products category search | specialbuyscategories', 'position': 72}, {'id': '828890770621900', 'name': 'joie lunch to go assortment', 'price': 2.99, 'brand': 'joie', 'dimension5': 'unavailable', 'unitPrice': 'each', 'productOnline': False, 'stateKey': 'instore.preview', 'multiDrop': False, 'list': 'products category search | specialbuyscategories', 'position': 73}, {'id': '827542759994200', 'name': 'auto xs bungee strap set 9 pack', 'price': 3.49, 'brand': 'auto xs', 'dimension5': 'unavailable', 'unitPrice': 'each', 'productOnline': False, 'stateKey': 'instore.available', 'multiDrop': False, 'list': 'products category search | specialbuyscategories', 'position': 74}, {'id': '733430770818600', 'name': 'paw paw', 'price': 1.49, 'brand': 'lacura', 'dimension5': 'unavailable', 'unitPrice': '£5.96 per 100g', 'productOnline': False, 'stateKey': 'instore.available', 'multiDrop': False, 'list': 'products category search | specialbuyscategories', 'position': 75}, {'id': '727845770067200', 'name': 'smart phone holder', 'price': 4.99, 'brand': 'paladone', 'dimension5': 'unavailable', 'unitPrice': 'each', 'productOnline': False, 'stateKey': 'instore.available', 'multiDrop': False, 'list': 'products category search | specialbuyscategories', 'position': 76}, {'id': '732929769569600', 'name': \"children's clip lid lunchbox\", 'price': 2.49, 'brand': 'crofton', 'dimension5': 'unavailable', 'unitPrice': 'each', 'productOnline': False, 'stateKey': 'instore.preview', 'multiDrop': False, 'list': 'products category search | specialbuyscategories', 'position': 77}, {'id': '734081755617300', 'name': 'cif multi purpose', 'price': 1.99, 'brand': 'cif', 'dimension5': 'unavailable', 'unitPrice': '£2.65 per litre', 'productOnline': False, 'stateKey': 'instore.preview', 'multiDrop': False, 'list': 'products category search | specialbuyscategories', 'position': 78}, {'id': '732113759811400', 'name': \"priddy books let's pretend\", 'price': 3.99, 'brand': \"macmillan children's books\", 'dimension5': 'unavailable', 'unitPrice': 'each', 'productOnline': False, 'stateKey': 'instore.available', 'multiDrop': False, 'list': 'products category search | specialbuyscategories', 'position': 79}, {'id': '726941765033600', 'name': 'zoflora 3-in-1 action concentrate', 'price': 4.79, 'brand': 'zoflora', 'dimension5': 'unavailable', 'unitPrice': '£9.58 per litre', 'productOnline': False, 'stateKey': 'instore.available', 'multiDrop': False, 'list': 'products category search | specialbuyscategories', 'position': 80}, {'id': '730544771414100', 'name': 'dishmatics', 'price': 1.99, 'brand': 'dishmatic', 'dimension5': 'unavailable', 'unitPrice': 'each', 'productOnline': False, 'stateKey': 'instore.preview', 'multiDrop': False, 'list': 'products category search | specialbuyscategories', 'position': 81}, {'id': '730542771542400', 'name': 'kirkton house extendable duster', 'price': 3.99, 'brand': 'kirkton house', 'dimension5': 'unavailable', 'unitPrice': 'each', 'productOnline': False, 'stateKey': 'instore.preview', 'multiDrop': False, 'list': 'products category search | specialbuyscategories', 'position': 82}, {'id': '730522763539400', 'name': 'crofton kitchen digital scales', 'price': 4.99, 'brand': 'crofton', 'dimension5': 'unavailable', 'unitPrice': 'each', 'productOnline': False, 'stateKey': 'instore.preview', 'multiDrop': False, 'list': 'products category search | specialbuyscategories', 'position': 83}, {'id': '730467770494900', 'name': 'crofton brunch boards', 'price': 3.99, 'brand': 'crofton', 'dimension5': 'unavailable', 'unitPrice': 'each', 'productOnline': False, 'stateKey': 'instore.preview', 'multiDrop': False, 'list': 'products category search | specialbuyscategories', 'position': 84}, {'id': '733335750053900', 'name': 'almat winter fabric conditioner', 'price': 1.69, 'brand': 'almat so soft', 'dimension5': 'unavailable', 'unitPrice': '4p/wash, £1.34/litre', 'productOnline': False, 'stateKey': 'instore.available', 'multiDrop': False, 'list': 'products category search | specialbuyscategories', 'position': 85}, {'id': '729453764737000', 'name': 'zoflora power bathroom spray', 'price': 2.39, 'brand': 'zoflora', 'dimension5': 'unavailable', 'unitPrice': '£2.99 per litre', 'productOnline': False, 'stateKey': 'instore.available', 'multiDrop': False, 'list': 'products category search | specialbuyscategories', 'position': 86}, {'id': '727643766801100', 'name': 'lacura vitamin eye primer', 'price': 4.99, 'brand': 'lacura', 'dimension5': 'unavailable', 'unitPrice': '£1.00/£3.33 per 10g', 'productOnline': False, 'stateKey': 'instore.available', 'multiDrop': False, 'list': 'products category search | specialbuyscategories', 'position': 87}, {'id': '732247768656400', 'name': 'edition blanc candle', 'price': 3.29, 'brand': 'hotel collection', 'dimension5': 'unavailable', 'unitPrice': '£1.65 per 100g', 'productOnline': False, 'stateKey': 'instore.available', 'multiDrop': False, 'list': 'products category search | specialbuyscategories', 'position': 88}, {'id': '831431763609000', 'name': 'auto xs car winter assortment', 'price': 1.49, 'brand': 'auto xs', 'dimension5': 'unavailable', 'unitPrice': 'each', 'productOnline': False, 'stateKey': 'instore.available', 'multiDrop': False, 'list': 'products category search | specialbuyscategories', 'position': 89}, {'id': '732718769621100', 'name': 'carplan demon winter range', 'price': 4.49, 'brand': 'demon', 'dimension5': 'unavailable', 'unitPrice': 'each', 'productOnline': False, 'stateKey': 'instore.available', 'multiDrop': False, 'list': 'products category search | specialbuyscategories', 'position': 90}, {'id': '734377765515600', 'name': 'lenor scent boosters', 'price': 2.99, 'brand': 'lenor', 'dimension5': 'unavailable', 'unitPrice': '£16.99 per kg', 'productOnline': False, 'stateKey': 'instore.available', 'multiDrop': False, 'list': 'products category search | specialbuyscategories', 'position': 91}, {'id': '732428771855700', 'name': 'harpic power plus toilet gel', 'price': 1.19, 'brand': 'harpic', 'dimension5': 'unavailable', 'unitPrice': '£1.58 per litre', 'productOnline': False, 'stateKey': 'instore.preview', 'multiDrop': False, 'list': 'products category search | specialbuyscategories', 'position': 92}, {'id': '733909755970500', 'name': 'domestos power foam', 'price': 2.25, 'brand': 'domestos', 'dimension5': 'unavailable', 'unitPrice': '£5.00/litre', 'productOnline': False, 'stateKey': 'instore.preview', 'multiDrop': False, 'list': 'products category search | specialbuyscategories', 'position': 93}, {'id': '729750764187700', 'name': 'fabric resistance bands', 'price': 4.99, 'brand': 'crane', 'dimension5': 'unavailable', 'unitPrice': 'each', 'productOnline': False, 'stateKey': 'instore.preview', 'multiDrop': False, 'list': 'products category search | specialbuyscategories', 'position': 94}, {'id': '829785761713600', 'name': '3 pack fitness-socks', 'price': 2.99, 'brand': 'crane', 'dimension5': 'unavailable', 'unitPrice': 'per pack', 'productOnline': False, 'stateKey': 'instore.preview', 'multiDrop': False, 'list': 'products category search | specialbuyscategories', 'position': 95}, {'id': '828592762842500', 'name': 'comfort insole', 'price': 1.99, 'brand': 'crane', 'dimension5': 'unavailable', 'unitPrice': 'per pair', 'productOnline': False, 'stateKey': 'instore.preview', 'multiDrop': False, 'list': 'products category search | specialbuyscategories', 'position': 96}, {'id': '729753764961100', 'name': 'fitness accessories', 'price': 4.99, 'brand': 'crane', 'dimension5': 'unavailable', 'unitPrice': 'each', 'productOnline': False, 'stateKey': 'instore.preview', 'multiDrop': False, 'list': 'products category search | specialbuyscategories', 'position': 97}, {'id': '730524766820900', 'name': 'barrel bottle', 'price': 3.49, 'brand': 'crofton', 'dimension5': 'unavailable', 'unitPrice': 'each', 'productOnline': False, 'stateKey': 'instore.preview', 'multiDrop': False, 'list': 'products category search | specialbuyscategories', 'position': 98}, {'id': '732511770614100', 'name': 'masterplast muscle spray', 'price': 0.99, 'brand': 'masterplast', 'dimension5': 'unavailable', 'unitPrice': '66p/79.2p per 100ml', 'productOnline': False, 'stateKey': 'instore.preview', 'multiDrop': False, 'list': 'products category search | specialbuyscategories', 'position': 99}, {'id': '732512771571200', 'name': 'masterplast heat pads', 'price': 0.99, 'brand': 'masterplast', 'dimension5': 'unavailable', 'unitPrice': '49.5p each', 'productOnline': False, 'stateKey': 'instore.preview', 'multiDrop': False, 'list': 'products category search | specialbuyscategories', 'position': 100}, {'id': '725334700590200', 'name': 'purewick aromaguard candle', 'price': 2.99, 'brand': 'purewick', 'dimension5': 'unavailable', 'unitPrice': '£1.50 per 100g', 'productOnline': False, 'stateKey': 'instore.preview', 'multiDrop': False, 'list': 'products category search | specialbuyscategories', 'position': 101}, {'id': '725335700590400', 'name': 'purewick aromaguard reed diffuser', 'price': 2.99, 'brand': 'purewick', 'dimension5': 'unavailable', 'unitPrice': '£3.74 per 100ml', 'productOnline': False, 'stateKey': 'instore.preview', 'multiDrop': False, 'list': 'products category search | specialbuyscategories', 'position': 102}, {'id': '734607774461300', 'name': 'small spaces air freshener', 'price': 1.69, 'brand': 'purewick', 'dimension5': 'unavailable', 'unitPrice': 'each', 'productOnline': False, 'stateKey': 'instore.preview', 'multiDrop': False, 'list': 'products category search | specialbuyscategories', 'position': 103}]\n",
      "['gaming alarm clock', 'acacia wood boards 2 pack', 'kilner breakfast jar set', 'auto xs full car cover mix', 'christmas wishes bouquet', 'persil laundry bio liquid', 'auto xs heavy duty seat cover', 'led hollywood mirror', 'persil 3-in-1 pods 66 washes', 'murder mystery cold case files', 'addis spray mop', 'large acacia wood boards', 'crofton food flask', 'gnorman the gonk squishee', '3-in-1 cordeless vacuum', 'gaming headset light', 'auto xs vehicle fault code reader', 'auto xs windscreen cover', 'christmas rose bouquet', 'persil bio & non-bio powder', 'lacura cleansing balm', 'neck & shoulder massager', 'kilner soup jar set', 'persil laundry liquid non-bio', 'mr muscle sink & drain gel 2 pack', 'large house plant 17cm', 'ambiano mini chopper', 'ambiano portable blender', 'solas led face mask', 'kilner smoothie jar set', 'auto xs heated seat cover', 'visage ionic hairdryer', 'zoflora carpet foam freshener', 'adult fitness trainers', 'gym ball', 'slam ball', '6kg kettle bell', '8kg kettle bell', 'acupressure mat', 'salter glass analyser scale', '20kg weighted bag', '10kg weighted bag', 'yoga assortment', 'ladies fitness leggings & trousers', 'ladies active pullover & hoodie', 'sports bag', 'dumbbell set 1kg/2kg/3kg', 'adjustable step', 'dumbbell set', 'lacura miracle cream', 'kirkton house salad cube', 'kirkton house bento box', 'crofton large glass storage', 'festive cushion covers', 'crofton 2 small glass dish', 'crofton water tracker bottle', 'festive gift wrapped plant', 'sunshiny days fabric conditioner', 'kirkton house dustpan & brush', 'comfort fabric conditioner', 'dustpan & brush', 'edition blanc reed diffuser', 'lenor seasonal fabric conditioner', 'crofton nested lunchboxes', 'mindful colouring book', 'crofton 3 snack dish glass', 'foolproof cookbook', 'zoflora multipurpose disinfectant', 'eat like a champion cookbook', 'redex twinpack mix', 'microwave cookware', 'kirkton house duster assortment', 'joie lunch to go assortment', 'auto xs bungee strap set 9 pack', 'paw paw', 'smart phone holder', \"children's clip lid lunchbox\", 'cif multi purpose', \"priddy books let's pretend\", 'zoflora 3-in-1 action concentrate', 'dishmatics', 'kirkton house extendable duster', 'crofton kitchen digital scales', 'crofton brunch boards', 'almat winter fabric conditioner', 'zoflora power bathroom spray', 'lacura vitamin eye primer', 'edition blanc candle', 'auto xs car winter assortment', 'carplan demon winter range', 'lenor scent boosters', 'harpic power plus toilet gel', 'domestos power foam', 'fabric resistance bands', '3 pack fitness-socks', 'comfort insole', 'fitness accessories', 'barrel bottle', 'masterplast muscle spray', 'masterplast heat pads', 'purewick aromaguard candle', 'purewick aromaguard reed diffuser', 'small spaces air freshener']\n"
     ]
    }
   ],
   "source": [
    "import json\n",
    "import time\n",
    "from selenium import webdriver\n",
    "from selenium.webdriver.common.by import By\n",
    "from selenium.common.exceptions import ElementNotInteractableException\n",
    "from webdriver_manager.chrome import ChromeDriverManager\n",
    "\n",
    "# install Chrome in case it wasn't installed already\n",
    "ChromeDriverManager().install()\n",
    "\n",
    "def fetch_all_products(url_address):\n",
    "    \"\"\"\n",
    "    This function returns a list of all special products found on the given page.\n",
    "    \"\"\"\n",
    "    all_products = [] #a list where all found products will be added\n",
    "    # open chrome\n",
    "    options = webdriver.ChromeOptions()\n",
    "    options.headless = True\n",
    "    driver = webdriver.Chrome(options=options)\n",
    "    try:\n",
    "        # navigate to the given address\n",
    "        driver.get(url_address)\n",
    "        time.sleep(1)\n",
    "        # find the accept all cookies button\n",
    "        accept_cookies_button = driver.find_element(By.ID, \"onetrust-accept-btn-handler\")\n",
    "        # click on the accept all cookies button\n",
    "        accept_cookies_button.click()\n",
    "        time.sleep(1)\n",
    "        # load more items until all are loaded\n",
    "        try:\n",
    "            # find the loadmore button\n",
    "            loadmore_button = driver.find_element(By.CLASS_NAME, 'category-loadmore-cta')\n",
    "            while loadmore_button != None:\n",
    "                # click on the button\n",
    "                loadmore_button.click() #?\n",
    "                # wait until the new items have been downloaded\n",
    "                time.sleep(3)\n",
    "                loadmore_button = driver.find_element(By.CLASS_NAME, 'category-loadmore-cta')\n",
    "        except ElementNotInteractableException:\n",
    "            loadmore_button = None\n",
    "        # find all elements describing a product\n",
    "        product_data = driver.find_elements(By.CLASS_NAME, 'gtm-product-data') #this is a class for product data\n",
    "        # load the json contained in all found elements\n",
    "        for l in product_data:\n",
    "            product = l.get_attribute(\"textContent\")\n",
    "            product_dict = json.loads(product)\n",
    "            all_products.append(product_dict)\n",
    "    finally:\n",
    "        # always close the browser before exiting\n",
    "        driver.close()\n",
    "    return all_products\n",
    "\n",
    "all_products = fetch_all_products(\"https://www.aldi.co.uk/c/specialbuys/specialbuyscategories\")\n",
    "print(all_products)\n",
    "print([p[\"name\"] for p in all_products])"
   ]
  },
  {
   "cell_type": "code",
   "execution_count": 2,
   "metadata": {},
   "outputs": [],
   "source": [
    "# Writing to sample.json\n",
    "with open(\"all_products.json\", \"w\") as outfile:\n",
    "    outfile.write(json.dumps(all_products, indent=4))"
   ]
  },
  {
   "cell_type": "markdown",
   "metadata": {},
   "source": [
    "## Step 2: Generate holidays and celebrations relevant to the current month\n",
    "\n",
    "In this step, we will create a list of holidays and special events in the UK for every month of the year.\n",
    "\n",
    "To do this:\n",
    "1. We create an LLM prompt with a month name as argument, and ask Cohere Generate to provide us with event suggestions\n",
    "2. This prompt contains an example, such that Cohere returns its answer as JSON list"
   ]
  },
  {
   "cell_type": "code",
   "execution_count": 3,
   "metadata": {},
   "outputs": [],
   "source": [
    "import cohere \n",
    "\n",
    "client_key = '1gqPwtcjMYFlYgr7722JJTfSYS0kAuSMEaAo6YKm'\n",
    "co = cohere.Client(client_key)"
   ]
  },
  {
   "cell_type": "code",
   "execution_count": 4,
   "metadata": {},
   "outputs": [],
   "source": [
    "months = [\"January\", \"February\", \"March\", \"April\", \"May\", \"June\", \"July\", \"August\", \"September\", \"October\", \"November\", \"December\"]"
   ]
  },
  {
   "cell_type": "code",
   "execution_count": 8,
   "metadata": {},
   "outputs": [],
   "source": [
    "import re\n",
    "json_list_pattern = r'\\[\\s*(?:\"[^\"]*\"\\s*,\\s*)*\"[^\"]*\"\\s*\\]'\n",
    "\n",
    "def ask_holidays(name_of_month):\n",
    "    answer = co.generate(prompt=f'Please tell me what holidays and special events are observed in {name_of_month} in the UK? store the answer in a list of the following format'+\"\"\": \n",
    "    \n",
    "    ```json\n",
    "    [\n",
    "        \"Celebration 1\",\n",
    "        \"Celebration 2\",\n",
    "        ...\n",
    "    ]\n",
    "    ```\"\"\")\n",
    "\n",
    "    answer_text = answer[0].text\n",
    "\n",
    "    events_for_given_month = []\n",
    "    \n",
    "    json_lists = re.findall(json_list_pattern, answer_text, flags=re.S)\n",
    "    for json_list in json_lists:\n",
    "        event_list = json.loads(json_list)\n",
    "        events_for_given_month.extend(event_list)\n",
    "\n",
    "    return events_for_given_month"
   ]
  },
  {
   "cell_type": "code",
   "execution_count": null,
   "metadata": {},
   "outputs": [],
   "source": [
    "holidays_per_month = []\n",
    "for month in months:\n",
    "    events_for_month = ask_holidays(month)\n",
    "    events_and_holidays.append(events_for_month)\n",
    "    time.sleep(13) # only 5 free queries per minute"
   ]
  },
  {
   "cell_type": "code",
   "execution_count": null,
   "metadata": {},
   "outputs": [],
   "source": [
    "import json\n",
    "with open('holidays_per_month.json', 'w') as f:\n",
    "    json.dumps(f, holidays_per_month)"
   ]
  },
  {
   "cell_type": "code",
   "execution_count": 12,
   "metadata": {},
   "outputs": [],
   "source": [
    "import json\n",
    "with open('holidays_per_month.json', 'r') as f:\n",
    "    holidays_per_month = json.loads(f.read())"
   ]
  },
  {
   "cell_type": "markdown",
   "metadata": {},
   "source": [
    "## Step 3: Generating gift ideas for these special events\n",
    "\n",
    "In this step, we will create a list of holidays and special events in the UK for every month of the year.\n",
    "\n",
    "To do this:\n",
    "1. We create an LLM prompt with an holiday name as argument, and ask Cohere Generate to provide us with gift suggestions (about 10 gifts)\n",
    "2. This prompt contains an example, such that Cohere returns its answer as JSON list"
   ]
  },
  {
   "cell_type": "code",
   "execution_count": 15,
   "metadata": {},
   "outputs": [],
   "source": [
    "def ask_goods(name_of_holiday):\n",
    "    answer = co.generate(prompt=f'What 10 items one can buy for the {name_of_holiday} in the UK? Store the answer in a list of strings of the following format'+\"\"\": \n",
    "    \n",
    "    ```json\n",
    "    [\n",
    "        \"gift 1\",\n",
    "        \"gift 2\",\n",
    "        ...\n",
    "    ]\n",
    "    ```\"\"\")\n",
    "\n",
    "    presents_matches = re.findall(json_list_pattern, answer[0].text, flags=re.S)\n",
    "    presents = [match.replace('\\n', \"\") for match in presents_matches]\n",
    "    presents = [json.loads(present) for present in presents]\n",
    "    presents = [present for present_list in presents for present in present_list]\n",
    "    \n",
    "    return presents"
   ]
  },
  {
   "cell_type": "code",
   "execution_count": null,
   "metadata": {},
   "outputs": [],
   "source": [
    "from tqdm import tqdm\n",
    "presents_for_holidays = dict()\n",
    "\n",
    "for month in tqdm(range(len(events_and_holidays))):\n",
    "    for holiday in events_and_holidays[month]:\n",
    "        goods_for_holiday = ask_goods(holiday)\n",
    "        presents_for_holidays[holiday] = goods_for_holiday\n",
    "        # we write the file in the loop to see progress\n",
    "        with open('presents_for_holidays.json', 'w') as f:\n",
    "            f.write(json.dumps(presents_for_holidays, indent='\\t'))\n",
    "        time.sleep(13) # only 5 free queries per minute"
   ]
  },
  {
   "cell_type": "code",
   "execution_count": null,
   "metadata": {},
   "outputs": [],
   "source": [
    "with open('presents_for_holidays.json', 'w') as f:\n",
    "    f.write(json.dumps(presents_for_holidays, indent='\\t'))"
   ]
  },
  {
   "cell_type": "code",
   "execution_count": 17,
   "metadata": {},
   "outputs": [],
   "source": [
    "with open(\"presents_for_holidays.json\", \"r\") as f:\n",
    "    presents_for_holidays = json.loads(f.read())"
   ]
  },
  {
   "cell_type": "markdown",
   "metadata": {},
   "source": [
    "## Step 4: Selecting a relevant subset of products on offer based on the gift ideas\n",
    "\n",
    "In this step, we will create a list of the 15 best products to include in the newsletter.\n",
    "\n",
    "To do this:\n",
    "1. We compute embeddings for all the product names we have collected so far\n",
    "2. We compute embeddings for all the gifts suggestions made by the model\n",
    "3. We compute the cosine similarities between all combinations of products and gits\n",
    "4. We sort the products by their maximum similarity score with any of the gift ideas\n",
    "5. We only keep the 15 best ones, or less if fewer are at least somewhat similar (>0.5)"
   ]
  },
  {
   "cell_type": "code",
   "execution_count": 18,
   "metadata": {},
   "outputs": [],
   "source": [
    "from datetime import datetime\n",
    "\n",
    "# get the current month\n",
    "current_date = datetime.now()\n",
    "current_daynumber = current_date.day\n",
    "current_month = current_date.month - 1\n",
    "current_year = current_date.year"
   ]
  },
  {
   "cell_type": "code",
   "execution_count": 24,
   "metadata": {},
   "outputs": [
    {
     "name": "stdout",
     "output_type": "stream",
     "text": [
      "microwave cookware \t\t Cookware \t\t Score: 0.7709\n",
      "christmas rose bouquet \t\t Winter bouquet \t\t Score: 0.7456\n",
      "christmas wishes bouquet \t\t Winter bouquet \t\t Score: 0.7215\n",
      "purewick aromaguard candle \t\t Scented candle \t\t Score: 0.7180\n",
      "fitness accessories \t\t Fashion Accessories \t\t Score: 0.6950\n",
      "barrel bottle \t\t Bottle of wine \t\t Score: 0.6820\n",
      "edition blanc candle \t\t winter candle collection \t\t Score: 0.6810\n",
      "smart phone holder \t\t Smartphone \t\t Score: 0.6592\n",
      "edition blanc reed diffuser \t\t Ceramic diffuser \t\t Score: 0.6456\n",
      "purewick aromaguard reed diffuser \t\t Ceramic diffuser \t\t Score: 0.6262\n",
      "festive gift wrapped plant \t\t gift for Winter Solstice \t\t Score: 0.6003\n",
      "crofton brunch boards \t\t Cheese Boards \t\t Score: 0.5903\n",
      "3 pack fitness-socks \t\t fleece-lined socks \t\t Score: 0.5893\n",
      "adult fitness trainers \t\t Sneakers/Trainers \t\t Score: 0.5883\n",
      "3-in-1 cordeless vacuum \t\t Cordless vacuum cleaner \t\t Score: 0.5652\n"
     ]
    }
   ],
   "source": [
    "from sentence_transformers import SentenceTransformer, util\n",
    "model = SentenceTransformer('all-MiniLM-L6-v2')\n",
    "\n",
    "holidays_in_current_month = holidays_per_month[current_month]\n",
    "\n",
    "presents_in_current_month = []\n",
    "for holiday in holidays_in_current_month:\n",
    "    presents_in_current_month.append(\"gift for \" + holiday)\n",
    "    presents_in_current_month.extend(presents_for_holidays[holiday])\n",
    "\n",
    "sentences1 = [product[\"name\"] for product in all_products]\n",
    "sentences2 = [present for present in presents_in_current_month]\n",
    "\n",
    "#Compute embedding for both lists\n",
    "embeddings1 = model.encode(sentences1, convert_to_tensor=True)\n",
    "embeddings2 = model.encode(sentences2, convert_to_tensor=True)\n",
    "\n",
    "#Compute cosine-similarities\n",
    "cosine_scores = util.cos_sim(embeddings1, embeddings2)\n",
    "\n",
    "#Output the pairs with their score\n",
    "good_matches = []\n",
    "for i in range(len(sentences1)):\n",
    "    best_score = 0.0\n",
    "    best_j = -1\n",
    "    for j in range(len(sentences2)):\n",
    "        score = cosine_scores[i][j].item()\n",
    "        if score > best_score:\n",
    "            best_score = score\n",
    "            best_j = j\n",
    "    if best_score > 0.5:\n",
    "        good_matches.append((sentences1[i], sentences2[best_j], best_score))\n",
    "        #print(\"{} \\t\\t {} \\t\\t Score: {:.4f}\".format(sentences1[i], sentences2[j], cosine_scores[i][j]))\n",
    "\n",
    "good_matches.sort(key=lambda x:x[2], reverse=True)\n",
    "\n",
    "# print a few gifts\n",
    "for product_name, type_of_gift, score in good_matches[0:15]:\n",
    "    print(\"{} \\t\\t {} \\t\\t Score: {:.4f}\".format(product_name, type_of_gift, score))\n"
   ]
  },
  {
   "cell_type": "markdown",
   "metadata": {},
   "source": [
    "## Step 5: Generating a newsletter based on that subset of products\n",
    "\n",
    "In this step, we generate the text of the newsletter using Cohere Chat, which produced better output for this than Cohere Generate.\n",
    "\n",
    "To do this, we:\n",
    "1. determine the holidays for which we have gift suggestions\n",
    "2. compute the urls of the selected products\n",
    "3. fill in the prompt used to make the newsletter\n",
    "4. the prompt contains an example for another month and a different set of products, to help the LLM use the right tone and format."
   ]
  },
  {
   "cell_type": "code",
   "execution_count": 26,
   "metadata": {},
   "outputs": [
    {
     "name": "stdout",
     "output_type": "stream",
     "text": [
      "{'Christmas Day', 'Saturnalia', 'Christmas Markets', 'Christmas Eve', 'Hanukkah', 'Teen Tech', 'Boxing Day', 'Winter Solstice', \"St. Stephen's Day\"}\n"
     ]
    }
   ],
   "source": [
    "#make a list of holidays for which I have items \n",
    "holidays_with_presents = set()\n",
    "for match in good_matches[0:15]:\n",
    "    for key, value in presents_for_holidays.items():\n",
    "        if \"gift for \" + key == match[1]:\n",
    "            holidays_with_presents.add(key)\n",
    "        for gift in value:\n",
    "            if gift == match[1]:\n",
    "                holidays_with_presents.add(key)\n",
    "\n",
    "print(holidays_with_presents)"
   ]
  },
  {
   "cell_type": "code",
   "execution_count": 27,
   "metadata": {},
   "outputs": [
    {
     "name": "stdout",
     "output_type": "stream",
     "text": [
      "{'christmas wishes bouquet': 'https://www.aldi.co.uk/christmas-wishes-bouquet/p/732746763384800', '3-in-1 cordeless vacuum': 'https://www.aldi.co.uk/3-in-1-cordeless-vacuum/p/729810767558000', 'christmas rose bouquet': 'https://www.aldi.co.uk/christmas-rose-bouquet/p/732750763361600', 'adult fitness trainers': 'https://www.aldi.co.uk/adult-fitness-trainers/p/828606752395800', 'festive gift wrapped plant': 'https://www.aldi.co.uk/festive-gift-wrapped-plant/p/716326560794700', 'edition blanc reed diffuser': 'https://www.aldi.co.uk/edition-blanc-reed-diffuser/p/732248768358300', 'microwave cookware': 'https://www.aldi.co.uk/microwave-cookware/p/730353770272600', 'smart phone holder': 'https://www.aldi.co.uk/smart-phone-holder/p/727845770067200', 'crofton brunch boards': 'https://www.aldi.co.uk/crofton-brunch-boards/p/730467770494900', 'edition blanc candle': 'https://www.aldi.co.uk/edition-blanc-candle/p/732247768656400', '3 pack fitness-socks': 'https://www.aldi.co.uk/3-pack-fitness-socks/p/829785761713600', 'fitness accessories': 'https://www.aldi.co.uk/fitness-accessories/p/729753764961100', 'barrel bottle': 'https://www.aldi.co.uk/barrel-bottle/p/730524766820900', 'purewick aromaguard candle': 'https://www.aldi.co.uk/purewick-aromaguard-candle/p/725334700590200', 'purewick aromaguard reed diffuser': 'https://www.aldi.co.uk/purewick-aromaguard-reed-diffuser/p/725335700590400'}\n"
     ]
    }
   ],
   "source": [
    "# compute the urls for the products\n",
    "def create_url(prod_info, matches_list):\n",
    "    products_and_links = dict()\n",
    "    for prod in prod_info:\n",
    "        for m in matches_list:\n",
    "            if m[0] == prod[\"name\"]:\n",
    "                name_for_link = prod[\"name\"].replace(\" \", \"-\")\n",
    "                id = prod[\"id\"]\n",
    "                prod_adress = f\"https://www.aldi.co.uk/{name_for_link}/p/{id}\"\n",
    "                products_and_links[prod[\"name\"]] = prod_adress\n",
    "    return products_and_links\n",
    "\n",
    "gifts_with_adresses = create_url(all_products, good_matches[0:15])\n",
    "print(gifts_with_adresses)"
   ]
  },
  {
   "cell_type": "code",
   "execution_count": 28,
   "metadata": {},
   "outputs": [],
   "source": [
    "with open (\"gifts_with_adresses.json\", \"w\") as outfile:\n",
    "    outfile.write(json.dumps(gifts_with_adresses))"
   ]
  },
  {
   "cell_type": "code",
   "execution_count": 29,
   "metadata": {},
   "outputs": [],
   "source": [
    "with open (\"holidays_with_presents.json\", \"w\") as outfile:\n",
    "    outfile.write(json.dumps(list(holidays_with_presents)))\n"
   ]
  },
  {
   "cell_type": "code",
   "execution_count": 30,
   "metadata": {},
   "outputs": [],
   "source": [
    "list_h = \", \".join(holidays_with_presents)\n",
    "list_p = \", \".join([f'<a href=\"{url}\">{product_name}</a>' for product_name, url in gifts_with_adresses.items()])"
   ]
  },
  {
   "cell_type": "code",
   "execution_count": 31,
   "metadata": {},
   "outputs": [],
   "source": [
    "#\n",
    "prompt = f\"\"\"Please, write a newsletter of about 150 words for the Aldi UK chain store.\n",
    "Today's date is the {current_daynumber}th of {months[current_month]}, {current_year}.\n",
    "Sign the newsletter by ending with \"Happy shopping!\"\n",
    "The newsletter should mention about some of the holidays and special events of the month that are provided in the following list: {list_h}.\n",
    "The newsletter should link using HTML links (e.g. checkout our <a href=\"https://www.aldi.co.uk/product-name/p/1234567\">product</a>) to some items you can buy in the store, based on the following list: {list_p}.\n",
    "Never mention a gift twice, and be creative. \n",
    "\"\"\"\n",
    "\n",
    "example_prompt = \"\"\"\n",
    "Please, write a newsletter of about 150 words for the Aldi UK chain store.\n",
    "Today's date is the 29th of June, 2024.\n",
    "Sign the newsletter by ending with \"Happy shopping!\"\n",
    "The newsletter should mention about some of the holidays and special events of the month that are provided in the following list: Wimbledon, Pride in London.\n",
    "The newsletter should link using HTML links (e.g. checkout our <a href=\"https://www.aldi.co.uk/product-name/p/1234567\">product</a>) to some items you can buy in the store, based on the following list: <a href=\"https://www.aldi.co.uk/tennis-balls-set-of-6/p/52176\">tennis balls (set of 6)</a>, <a href=\"https://www.aldi.co.uk/rainbow-umbrella/p/69420\">rainbow umbrella</a>.\n",
    "Never mention a gift twice, and be creative. \n",
    "\"\"\"\n",
    "\n",
    "example_answer = \"\"\"Hey there! \n",
    "\n",
    "As we dive into the vibrant month of June, Aldi has your summer essentials ready to shine! 🌈 Gear up for Wimbledon with our <a href=\"https://www.aldi.co.uk/tennis-balls-set-of-6/p/52176\">set of tennis balls</a>, perfect for your match-winning serves. Don't let the unpredictable British weather rain on your parade – grab our stylish <a href=\"https://www.aldi.co.uk/rainbow-umbrella/p/69420\">rainbow umbrella</a> to stay dry and fabulous!\n",
    "\n",
    "In the spirit of inclusivity, we celebrate Pride in London with a range of diverse products. Embrace the colors of love and show your support!\n",
    "\n",
    "Stay tuned for more exciting offers and surprises at your nearest Aldi store.\n",
    "\n",
    "Happy shopping! \n",
    "\"\"\""
   ]
  },
  {
   "cell_type": "code",
   "execution_count": 33,
   "metadata": {},
   "outputs": [
    {
     "name": "stdout",
     "output_type": "stream",
     "text": [
      "Hello there! \n",
      "\n",
      "As we approach the festive season, Aldi has plenty of offers to make your holidays magical! This month, we're celebrating Christmas, Saturnalia, Christmas Markets, Christmas Eve, Hanukkah, Teen Tech, Boxing Day, Winter Solstice, and St. Stephen's Day. \n",
      "\n",
      "Get into the holiday spirit with our selection of gifts, including the <a href=\"https://www.aldi.co.uk/christmas-wishes-bouquet/p/732746763384800\">Christmas Wishes Bouquet</a>, the <a href=\"https://www.aldi.co.uk/3-in-1-cordeless-vacuum/p/729810767558000\">3-in-1 Cordless Vacuum</a> for effortless cleaning, and our <a href=\"https://www.aldi.co.uk/christmas-rose-bouquet/p/732750763361600\">Christmas Rose Bouquet</a> to add a touch of elegance to your gatherings. \n",
      "\n",
      "We know you love staying active, so why not check out our <a href=\"https://www.aldi.co.uk/adult-fitness-trainers/p/828606752395800\">Adult Fitness Trainers</a> or our <a href=\"https://www.aldi.co.uk/3-pack-fitness-socks/p/829785761713600\">3 Pack Fitness Socks</a>? For those who love to entertain, our <a href=\"https://www.aldi.co.uk/crofton-brunch-boards/p/730467770494900\">Crocket Brunch Boards</a> and <a href=\"https://www.aldi.co.uk/microwave-cookware/p/730353770272600\">Microwave Cookware</a> will make hosting a breeze. Don't forget to grab our <a href=\"https://www.aldi.co.uk/edition-blanc-reed-diffuser/p/732248768358300\">Edition Blanc Reed Diffuser</a> or <a href=\"https://www.aldi.co.uk/edition-blanc-candle/p/732247768656400\">Edition Blanc Candle</a> for a delightful aroma, and explore our <a href=\"https://www.aldi.co.uk/smart-phone-holder/p/727845770067200\">Smart Phone Holder</a> to capture all the holiday memories. \n",
      "\n",
      "Don't miss out on our <a href=\"https://www.aldi.co.uk/barrel-bottle/p/730524766820900\">Barrel Bottle</a> for festive drinks and our <a href=\"https://www.aldi.co.uk/purewick-aromaguard-candle/p/725334700590200\">Purewick Aromaguard Candle</a> for a cosy night in. \n",
      "\n",
      "Happy shopping! \n",
      "\n",
      "Aldi wishes you a joyous holiday season and a prosperous new year. \n",
      "\n",
      "Author: [Your Name] \n"
     ]
    }
   ],
   "source": [
    "answer = co.chat(\n",
    "    chat_history=[\n",
    "        {\"role\": \"USER\", \"message\": example_prompt},\n",
    "        {\"role\": \"CHATBOT\", \"message\": example_answer}\n",
    "    ],\n",
    "    message=prompt\n",
    ")\n",
    "print(answer.text)"
   ]
  }
 ],
 "metadata": {
  "kernelspec": {
   "display_name": "Python 3",
   "language": "python",
   "name": "python3"
  },
  "language_info": {
   "codemirror_mode": {
    "name": "ipython",
    "version": 3
   },
   "file_extension": ".py",
   "mimetype": "text/x-python",
   "name": "python",
   "nbconvert_exporter": "python",
   "pygments_lexer": "ipython3",
   "version": "3.10.11"
  }
 },
 "nbformat": 4,
 "nbformat_minor": 2
}
